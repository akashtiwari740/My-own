{
  "nbformat": 4,
  "nbformat_minor": 0,
  "metadata": {
    "colab": {
      "provenance": []
    },
    "kernelspec": {
      "name": "python3",
      "display_name": "Python 3"
    },
    "language_info": {
      "name": "python"
    }
  },
  "cells": [
    {
      "cell_type": "code",
      "execution_count": null,
      "metadata": {
        "id": "wINrn56L-Ik-"
      },
      "outputs": [],
      "source": [
        "from google.colab import files\n",
        "uploaded_files = files.upload()  # This opens a file picker dialog in Colab"
      ]
    },
    {
      "cell_type": "code",
      "source": [
        "# ⚙️ SYSTEM SETUP: Install required libraries with pinned versions\n",
        "!pip install -U \\\n",
        "  torch==2.6.0\\\n",
        "  transformers\\\n",
        "  sentence-transformers\\\n",
        "  faiss-cpu\\\n",
        "  langchain\\\n",
        "  langchain-core\\\n",
        "  langchain-community\\\n",
        "  langchain-groq\\\n",
        "  llama-index\\\n",
        "  pypdf\\\n",
        "  groq\\\n",
        "  streamlit\\\n",
        "  -q python-dotenv\\\n",
        "  --quiet\n"
      ],
      "metadata": {
        "id": "Dzn2mHl6-tLf"
      },
      "execution_count": null,
      "outputs": []
    },
    {
      "cell_type": "code",
      "source": [
        "import os\n",
        "from dotenv import load_dotenv\n",
        "from langchain.document_loaders import PyPDFLoader\n",
        "from langchain.text_splitter import RecursiveCharacterTextSplitter\n",
        "from langchain_community.embeddings import HuggingFaceBgeEmbeddings\n",
        "from langchain_community.vectorstores import FAISS\n",
        "\n",
        "# Load API key from .env\n",
        "load_dotenv()\n",
        "groq_api_key = os.getenv(\"GROQ_API_KEY\")\n",
        "\n",
        "# Load PDF and split into chunks\n",
        "loader = PyPDFLoader(\"Case Compendium.pdf\")\n",
        "documents = loader.load()\n",
        "text_splitter = RecursiveCharacterTextSplitter(chunk_size=1000, chunk_overlap=50)\n",
        "texts = text_splitter.split_documents(documents)\n",
        "\n",
        "# Define embedding model\n",
        "model_name = \"BAAI/bge-small-en\"\n",
        "\n",
        "model_kwargs = {\"device\": \"cpu\"}\n",
        "encode_kwargs = {'normalize_embeddings': False}\n",
        "embeddings1 = HuggingFaceBgeEmbeddings(\n",
        "    model_name=model_name,\n",
        "    model_kwargs=model_kwargs,\n",
        "    encode_kwargs=encode_kwargs,\n",
        "    show_progress=True\n",
        ")\n",
        "\n",
        "# Extract raw text from Document objects\n",
        "texts_only = [doc.page_content for doc in texts]\n",
        "print(len(texts_only))\n",
        "print(embeddings1)\n",
        "\n"
      ],
      "metadata": {
        "id": "KKru-P7LpgFS"
      },
      "execution_count": null,
      "outputs": []
    },
    {
      "cell_type": "code",
      "source": [
        "db=FAISS.from_texts(\n",
        "    texts=texts_only,\n",
        "    embedding=embeddings1,\n",
        ")"
      ],
      "metadata": {
        "id": "1faiO07KqI2M"
      },
      "execution_count": null,
      "outputs": []
    },
    {
      "cell_type": "code",
      "source": [
        "db.save_local(\"faiss_index\")"
      ],
      "metadata": {
        "id": "yzeGqht9qLGA"
      },
      "execution_count": null,
      "outputs": []
    },
    {
      "cell_type": "code",
      "source": [
        "%%writefile app.py\n",
        "import os\n",
        "import streamlit as st\n",
        "from langchain_groq import ChatGroq\n",
        "from langchain_community.vectorstores import FAISS\n",
        "from langchain_core.prompts import ChatPromptTemplate\n",
        "from langchain_core.runnables import RunnablePassthrough\n",
        "from langchain_core.output_parsers import StrOutputParser\n",
        "from langchain_community.embeddings import HuggingFaceBgeEmbeddings\n",
        "from langchain.schema.runnable import RunnableLambda\n",
        "model_name = \"BAAI/bge-small-en\"\n",
        "model_kwargs = {'device': 'cpu'}\n",
        "encode_kwargs = {'normalize_embeddings': False}\n",
        "\n",
        "def get_embeddings():\n",
        "    return HuggingFaceBgeEmbeddings(\n",
        "        model_name=\"BAAI/bge-small-en\",\n",
        "        model_kwargs={\"device\": \"cpu\", \"trust_remote_code\": True},\n",
        "        encode_kwargs={\"normalize_embeddings\": False},\n",
        "    )\n",
        "\n",
        "def get_faiss_index(embeddings):\n",
        "    return FAISS.load_local(\"faiss_index\", embeddings=embeddings, allow_dangerous_deserialization=True)\n",
        "\n",
        "# Safe, persistent loading\n",
        "embeddings1 = get_embeddings()\n",
        "db1 = get_faiss_index(embeddings1)\n",
        "retriever = db1.as_retriever(search_type=\"similarity\", search_kwargs={\"k\": 5})\n",
        "\n",
        "\n",
        "llm = ChatGroq(api_key=os.getenv(\"GROQ_API_KEY\"), model=\"llama-3.1-8b-instant\")\n",
        "\n",
        "prompt_template = \"\"\"\n",
        "You are an intelligent and tricky interviewer tasked with interviewing candidates based on provided context for the company and industry chosen by user.\n",
        "you should ask questions based on context and query only not on some previous memory.\n",
        "you should ask questions short concise, one at a time.\n",
        "you should be critical, if user replies to your answer which you think is not right u have to tell them and continue your conversation as as interviewer.\n",
        "you have access to all previous responses given by him and based on given context, you form questions. and you have to continue like an interviewer. when you information\n",
        "database ends. write thank you and end the conversation.\n",
        "Use the following context to respond to the user's question. if you dont find company and industry tell user to write correct comany and industry name.\n",
        "\n",
        "\n",
        "Context:\n",
        "{context}\n",
        "\n",
        "Question:\n",
        "{query}\n",
        "\n",
        "Answer:\n",
        "\"\"\"\n",
        "prompt = ChatPromptTemplate.from_template(prompt_template)\n",
        "\n",
        "chain = (\n",
        "    {\"context\": retriever, \"query\": RunnablePassthrough()}\n",
        "    | prompt\n",
        "    | llm\n",
        "    | StrOutputParser()\n",
        ")\n",
        "\n",
        "# Page state\n",
        "if \"page\" not in st.session_state:\n",
        "  st.session_state.page = \"start\"\n",
        "if \"chat_history\" not in st.session_state:\n",
        "  st.session_state.chat_history = []\n",
        "\n",
        "# ----------------- PAGE NAVIGATION --------------------\n",
        "\n",
        "if st.session_state.page == \"start\":\n",
        "  st.title(\"Mock Case Interview\")\n",
        "  if st.button(\"Start\", key=\"start_btn_page1\"):\n",
        "    st.session_state.page = \"input\"\n",
        "    st.rerun()\n",
        "\n",
        "elif st.session_state.page == \"input\":\n",
        "  st.title(\"Company & Industry Setup\")\n",
        "  st.session_state.company = st.text_input(\"Enter company name:\")\n",
        "  st.session_state.industry = st.text_input(\"Enter industry:\")\n",
        "\n",
        "  if st.button(\"Submit\",key=\"start_btn_page2\"):\n",
        "    # Optional: validate company/industry before proceeding\n",
        "    inp=st.session_state.company+\" and \"+st.session_state.industry\n",
        "    st.session_state.chat_history.append((\"You\", inp))\n",
        "    chat_history_str = \"\\n\".join([f\"{str(sender)}: {str(msg)}\" for sender, msg in st.session_state.chat_history])\n",
        "    response = chain.invoke(chat_history_str)\n",
        "    st.session_state.chat_history.append((\"Interviewer\", response))\n",
        "    st.session_state.page = \"chat\"\n",
        "    st.rerun()\n",
        "\n",
        "  if st.button(\"End Session\",key=\"start_btn_page3\"):\n",
        "\n",
        "    st.session_state.page = \"start\"\n",
        "    st.session_state.chat_history = []\n",
        "    st.rerun()\n",
        "\n",
        "\n",
        "elif st.session_state.page == \"chat\":\n",
        "    st.title(\"Your Interviewer is Ready\")\n",
        "\n",
        "    # Display full chat history\n",
        "    for sender, message in st.session_state.chat_history:\n",
        "        st.markdown(f\"**{sender}**: {message}\")\n",
        "\n",
        "    # Define input box with dynamic default value\n",
        "    if \"user_input\" not in st.session_state:\n",
        "        st.session_state.user_input = \"\"\n",
        "\n",
        "    user_query = st.text_input(\"Your response:\", key=\"input_box\", value=st.session_state.user_input)\n",
        "\n",
        "    # Send Button Logic\n",
        "    if st.button(\"Send\", key=\"start_btn_page4\"):\n",
        "        if user_query.strip() != \"\":\n",
        "            st.session_state.chat_history.append((\"You\", user_query.strip()))\n",
        "\n",
        "            chat_history_str = \"\\n\".join(\n",
        "                [f\"{str(sender)}: {str(msg)}\" for sender, msg in st.session_state.chat_history]\n",
        "            )\n",
        "\n",
        "            response = chain.invoke(chat_history_str)\n",
        "            st.session_state.chat_history.append((\"Interviewer\", response))\n",
        "\n",
        "            # Clear input and rerun\n",
        "            st.session_state.user_input = \"\"  # reset stored input\n",
        "            st.rerun()\n",
        "        else:\n",
        "            st.warning(\"Please enter a response before sending.\")\n",
        "\n",
        "    # End Session Button\n",
        "    if st.button(\"End Session\", key=\"start_btn_page5\"):\n",
        "        st.session_state.page = \"start\"\n",
        "        st.session_state.chat_history = []\n",
        "        st.session_state.user_input = \"\"\n",
        "        st.rerun()\n"
      ],
      "metadata": {
        "id": "WtaUSxFgqOAE"
      },
      "execution_count": null,
      "outputs": []
    },
    {
      "cell_type": "code",
      "source": [
        "!pip install -q streamlit pyngrok\n",
        "!ngrok config add-authtoken 2ywa7L0yjbbbXQdFMZVGImNbOkC_7M5xiAA1sQR82qn5rDZhT"
      ],
      "metadata": {
        "id": "09-E_v4qq0IZ"
      },
      "execution_count": null,
      "outputs": []
    },
    {
      "cell_type": "code",
      "source": [
        "from pyngrok import ngrok\n",
        "import threading\n",
        "import os\n",
        "\n",
        "# Start public URL tunnel\n",
        "public_url = ngrok.connect(8501)\n",
        "print(\"📣 Open your Streamlit app here:\", public_url)\n",
        "\n",
        "# Run Streamlit in the background\n",
        "def run_app():\n",
        "    os.system(\"streamlit run app.py\")\n",
        "\n",
        "thread = threading.Thread(target=run_app)\n",
        "thread.start()\n"
      ],
      "metadata": {
        "id": "Ydy6XJSrq4-w"
      },
      "execution_count": null,
      "outputs": []
    }
  ]
}